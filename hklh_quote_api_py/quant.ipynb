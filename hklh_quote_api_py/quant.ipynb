{
 "cells": [
  {
   "cell_type": "code",
   "execution_count": 4,
   "id": "b1cbf8d4",
   "metadata": {},
   "outputs": [],
   "source": [
    "import os\n",
    "import pandas as pd\n",
    "import numpy as np\n",
    "import joblib\n",
    "from tqdm import tqdm_notebook"
   ]
  },
  {
   "cell_type": "code",
   "execution_count": 10,
   "id": "f064beba",
   "metadata": {},
   "outputs": [],
   "source": [
    "# data_ws = '/cfs/cfs-kur7csnz/jiaokeshi/quant'\n",
    "data_ws = 'D:\\\\git_dir\\\\bojin_campaign\\\\hklh_quote_api_py\\\\demo\\\\history_quote'\n",
    "data_file = os.path.join(data_ws, 'csi500_20220901_20230901.zip')"
   ]
  },
  {
   "cell_type": "code",
   "execution_count": 11,
   "id": "880e3307",
   "metadata": {},
   "outputs": [
    {
     "data": {
      "text/html": [
       "<div>\n",
       "<style scoped>\n",
       "    .dataframe tbody tr th:only-of-type {\n",
       "        vertical-align: middle;\n",
       "    }\n",
       "\n",
       "    .dataframe tbody tr th {\n",
       "        vertical-align: top;\n",
       "    }\n",
       "\n",
       "    .dataframe thead th {\n",
       "        text-align: right;\n",
       "    }\n",
       "</style>\n",
       "<table border=\"1\" class=\"dataframe\">\n",
       "  <thead>\n",
       "    <tr style=\"text-align: right;\">\n",
       "      <th></th>\n",
       "      <th>code</th>\n",
       "      <th>date</th>\n",
       "      <th>times</th>\n",
       "      <th>open_price</th>\n",
       "      <th>high_price</th>\n",
       "      <th>low_price</th>\n",
       "      <th>close_price</th>\n",
       "      <th>vwap</th>\n",
       "      <th>money</th>\n",
       "      <th>volume</th>\n",
       "    </tr>\n",
       "  </thead>\n",
       "  <tbody>\n",
       "    <tr>\n",
       "      <th>0</th>\n",
       "      <td>000009.SZ</td>\n",
       "      <td>20220902</td>\n",
       "      <td>93000000</td>\n",
       "      <td>14.60</td>\n",
       "      <td>14.60</td>\n",
       "      <td>14.60</td>\n",
       "      <td>14.60</td>\n",
       "      <td>14.600000</td>\n",
       "      <td>49669200000</td>\n",
       "      <td>340200</td>\n",
       "    </tr>\n",
       "    <tr>\n",
       "      <th>1</th>\n",
       "      <td>000009.SZ</td>\n",
       "      <td>20220902</td>\n",
       "      <td>93300000</td>\n",
       "      <td>14.60</td>\n",
       "      <td>14.60</td>\n",
       "      <td>14.58</td>\n",
       "      <td>14.58</td>\n",
       "      <td>14.591919</td>\n",
       "      <td>46460670000</td>\n",
       "      <td>318400</td>\n",
       "    </tr>\n",
       "    <tr>\n",
       "      <th>2</th>\n",
       "      <td>000009.SZ</td>\n",
       "      <td>20220902</td>\n",
       "      <td>93400000</td>\n",
       "      <td>14.58</td>\n",
       "      <td>14.58</td>\n",
       "      <td>14.56</td>\n",
       "      <td>14.56</td>\n",
       "      <td>14.569582</td>\n",
       "      <td>28570950000</td>\n",
       "      <td>196100</td>\n",
       "    </tr>\n",
       "    <tr>\n",
       "      <th>3</th>\n",
       "      <td>000009.SZ</td>\n",
       "      <td>20220902</td>\n",
       "      <td>93500000</td>\n",
       "      <td>14.57</td>\n",
       "      <td>14.57</td>\n",
       "      <td>14.50</td>\n",
       "      <td>14.51</td>\n",
       "      <td>14.524857</td>\n",
       "      <td>34423910000</td>\n",
       "      <td>237000</td>\n",
       "    </tr>\n",
       "    <tr>\n",
       "      <th>4</th>\n",
       "      <td>000009.SZ</td>\n",
       "      <td>20220902</td>\n",
       "      <td>93800000</td>\n",
       "      <td>14.56</td>\n",
       "      <td>14.56</td>\n",
       "      <td>14.48</td>\n",
       "      <td>14.48</td>\n",
       "      <td>14.522299</td>\n",
       "      <td>39602310000</td>\n",
       "      <td>272700</td>\n",
       "    </tr>\n",
       "  </tbody>\n",
       "</table>\n",
       "</div>"
      ],
      "text/plain": [
       "        code      date     times  open_price  high_price  low_price  \\\n",
       "0  000009.SZ  20220902  93000000       14.60       14.60      14.60   \n",
       "1  000009.SZ  20220902  93300000       14.60       14.60      14.58   \n",
       "2  000009.SZ  20220902  93400000       14.58       14.58      14.56   \n",
       "3  000009.SZ  20220902  93500000       14.57       14.57      14.50   \n",
       "4  000009.SZ  20220902  93800000       14.56       14.56      14.48   \n",
       "\n",
       "   close_price       vwap        money  volume  \n",
       "0        14.60  14.600000  49669200000  340200  \n",
       "1        14.58  14.591919  46460670000  318400  \n",
       "2        14.56  14.569582  28570950000  196100  \n",
       "3        14.51  14.524857  34423910000  237000  \n",
       "4        14.48  14.522299  39602310000  272700  "
      ]
     },
     "execution_count": 11,
     "metadata": {},
     "output_type": "execute_result"
    }
   ],
   "source": [
    "df = pd.read_csv(data_file)\n",
    "df.head()"
   ]
  },
  {
   "cell_type": "code",
   "execution_count": null,
   "id": "f81ac6bd",
   "metadata": {},
   "outputs": [],
   "source": [
    "# data_ws = './'\n",
    "# data_file = './data_sample_code10.csv'\n",
    "# df = pd.read_csv(data_file)"
   ]
  },
  {
   "cell_type": "code",
   "execution_count": 24,
   "id": "3ac6db46",
   "metadata": {},
   "outputs": [],
   "source": [
    "df_20230901 = df[df['date'] == 20230901]\n",
    "len(df_20230901)\n",
    "df_20230901.to_csv('df_20230901.csv', index=False)"
   ]
  },
  {
   "cell_type": "code",
   "execution_count": 31,
   "id": "167e4cc7",
   "metadata": {},
   "outputs": [
    {
     "data": {
      "text/plain": [
       "150000000"
      ]
     },
     "execution_count": 31,
     "metadata": {},
     "output_type": "execute_result"
    }
   ],
   "source": [
    "df_20230901['times'].max()"
   ]
  },
  {
   "cell_type": "code",
   "execution_count": 38,
   "id": "a613a180",
   "metadata": {},
   "outputs": [
    {
     "data": {
      "text/plain": [
       "'093800'"
      ]
     },
     "execution_count": 38,
     "metadata": {},
     "output_type": "execute_result"
    }
   ],
   "source": [
    "\"{:0>6d}\".format(int(93800000 / 1000))"
   ]
  },
  {
   "cell_type": "code",
   "execution_count": 12,
   "id": "67c32504",
   "metadata": {},
   "outputs": [
    {
     "data": {
      "text/plain": [
       "29020041"
      ]
     },
     "execution_count": 12,
     "metadata": {},
     "output_type": "execute_result"
    }
   ],
   "source": [
    "df1 = df.dropna(axis=0, how='any')\n",
    "len(df1)"
   ]
  },
  {
   "cell_type": "code",
   "execution_count": 14,
   "id": "0ef47dec",
   "metadata": {},
   "outputs": [
    {
     "data": {
      "text/plain": [
       "599"
      ]
     },
     "execution_count": 14,
     "metadata": {},
     "output_type": "execute_result"
    }
   ],
   "source": [
    "codes = df1['code'].unique()\n",
    "len(codes)"
   ]
  },
  {
   "cell_type": "code",
   "execution_count": 16,
   "id": "d654395b",
   "metadata": {},
   "outputs": [],
   "source": [
    "import json\n",
    "with open('all_codes.txt', 'w') as fp:\n",
    "    json.dump(list(codes), fp)"
   ]
  },
  {
   "cell_type": "code",
   "execution_count": 13,
   "id": "19ca8584",
   "metadata": {},
   "outputs": [
    {
     "data": {
      "text/plain": [
       "2902004"
      ]
     },
     "execution_count": 13,
     "metadata": {},
     "output_type": "execute_result"
    }
   ],
   "source": [
    "df1 = df1.sample(int(0.1 * len(df1)))\n",
    "len(df1)"
   ]
  },
  {
   "cell_type": "code",
   "execution_count": null,
   "id": "e065ca4c-6671-4a32-b390-c211634df64d",
   "metadata": {},
   "outputs": [],
   "source": [
    "df1 = df1.set_index('code')"
   ]
  },
  {
   "cell_type": "code",
   "execution_count": 39,
   "id": "6e517188",
   "metadata": {},
   "outputs": [
    {
     "data": {
      "text/plain": [
       "10.000264644622803"
      ]
     },
     "execution_count": 39,
     "metadata": {},
     "output_type": "execute_result"
    }
   ],
   "source": [
    "import time\n",
    "import datetime\n",
    "t1 = time.time()\n",
    "time.sleep(10)\n",
    "t2 = time.time()\n",
    "t2 -t1"
   ]
  },
  {
   "cell_type": "code",
   "execution_count": 19,
   "id": "16c30520",
   "metadata": {},
   "outputs": [
    {
     "data": {
      "text/plain": [
       "0.16666666666666666"
      ]
     },
     "execution_count": 19,
     "metadata": {},
     "output_type": "execute_result"
    }
   ],
   "source": [
    "t.seconds / 60"
   ]
  },
  {
   "cell_type": "code",
   "execution_count": null,
   "id": "aac57ba7-b8fe-439b-9d17-9de4b33f22db",
   "metadata": {},
   "outputs": [],
   "source": [
    "df1 = df1.sort_values(['date','times'], ascending=False)"
   ]
  },
  {
   "cell_type": "code",
   "execution_count": null,
   "id": "f3091f48",
   "metadata": {},
   "outputs": [
    {
     "name": "stderr",
     "output_type": "stream",
     "text": [
      "<ipython-input-29-713dc423bcfd>:6: TqdmDeprecationWarning: This function will be removed in tqdm==5.0.0\n",
      "Please use `tqdm.notebook.tqdm` instead of `tqdm.tqdm_notebook`\n",
      "  for n, code in tqdm_notebook(enumerate(codes), total=len(codes)):\n"
     ]
    },
    {
     "data": {
      "application/vnd.jupyter.widget-view+json": {
       "model_id": "c353b03b7ac2464f987767255c38f593",
       "version_major": 2,
       "version_minor": 0
      },
      "text/plain": [
       "  0%|          | 0/599 [00:00<?, ?it/s]"
      ]
     },
     "metadata": {},
     "output_type": "display_data"
    },
    {
     "data": {
      "text/plain": [
       "(82199, 13719, 13657)"
      ]
     },
     "execution_count": 29,
     "metadata": {},
     "output_type": "execute_result"
    }
   ],
   "source": [
    "train_df = []\n",
    "test_df = []\n",
    "pred_df = []\n",
    "cols_cal_rate = ['open_price','close_price','vwap','volume']\n",
    "\n",
    "for n, code in tqdm_notebook(enumerate(codes), total=len(codes)):\n",
    "    # print(n, ':', code)\n",
    "    group = df1.loc[code]\n",
    "    # group = group.sort_values(['date','times'], ascending=False)\n",
    "    g1 = group.set_index(['date', 'times'])\n",
    "    days = g1.index.get_level_values(0).unique()\n",
    "\n",
    "    for i in range(7):\n",
    "        day = days[i]\n",
    "        df_day = g1.loc[day]\n",
    "        times = df_day.index.unique()\n",
    "        for j in range(1, len(times)):\n",
    "            time = times[j]\n",
    "            row = df_day.iloc[j, :]\n",
    "            vwap_next = df_day.iloc[j-1]['vwap']\n",
    "            label = row['vwap'] / vwap_next\n",
    "\n",
    "            minute = time / 100000\n",
    "            feat_hour = [0]*4\n",
    "            if minute >= 930 and minute < 1030:\n",
    "                feat_hour[0] = 1\n",
    "            elif minute >= 1030 and minute <= 1130:\n",
    "                feat_hour[1] = 1\n",
    "            elif minute >= 1300 and minute < 1400:\n",
    "                feat_hour[2] = 1\n",
    "            elif minute >= 1400 and minute <= 1500:\n",
    "                feat_hour[3] = 1\n",
    "\n",
    "            high_price_rate = row['high_price'] / row['open_price']\n",
    "            low_price_rate = row['low_price'] / row['open_price']\n",
    "            close_price_rate = row['close_price'] / row['open_price']\n",
    "            vwap_rate = row['vwap'] / row['open_price']\n",
    "            volume_log = np.log(row['volume'])\n",
    "            money_log = np.log(row['money'])\n",
    "\n",
    "            # 日内前第N分钟与当前的比值特征\n",
    "            feat_rates_in_day = []\n",
    "            for k in [1,3,5,10,30,60]:\n",
    "                rates = [.0] * len(cols_cal_rate)\n",
    "                if j+1 < len(times):\n",
    "                    pre_row = df_day.iloc[j+1]\n",
    "                    for ii, col in enumerate(cols_cal_rate):\n",
    "                        rates[ii] = pre_row[col] / row[col]\n",
    "                feat_rates_in_day.extend(rates)\n",
    "\n",
    "            # 前第N天与当前的比值特征\n",
    "            feats_rates_days = []\n",
    "            for k in [1,3,5,10,30,60,90,180]:\n",
    "                rates = [.0] * len(cols_cal_rate)\n",
    "                if i+k < len(days):\n",
    "                    pre_day = days[i+k]\n",
    "                    # 第N天最后一条成交记录\n",
    "                    row_pre_day_last = g1.loc[pre_day].iloc[0]\n",
    "                    for ii, col in enumerate(cols_cal_rate):\n",
    "                        rates[ii] = row_pre_day_last[col] / row[col]\n",
    "                feats_rates_days.extend(rates)\n",
    "\n",
    "            example = [label]\n",
    "            example.extend(feat_hour)\n",
    "            example.extend([high_price_rate, low_price_rate, close_price_rate,\n",
    "                         vwap_rate, volume_log, money_log])\n",
    "            example.extend(feat_rates_in_day)\n",
    "            example.extend(feats_rates_days)\n",
    "            if i == 0:\n",
    "                pred_df.append(example)\n",
    "            if i == 1:\n",
    "                test_df.append(example)\n",
    "            else:\n",
    "                train_df.append(example)\n",
    "len(train_df), len(test_df), len(pred_df)"
   ]
  },
  {
   "cell_type": "code",
   "execution_count": null,
   "id": "86248c80",
   "metadata": {},
   "outputs": [],
   "source": [
    "train_df = np.array(train_df)\n",
    "test_df = np.array(test_df)\n",
    "val_df = np.array(pred_df)"
   ]
  },
  {
   "cell_type": "code",
   "execution_count": null,
   "id": "757529e4-3c17-4e6d-9c8a-90fc0fcad14d",
   "metadata": {},
   "outputs": [],
   "source": []
  },
  {
   "cell_type": "code",
   "execution_count": null,
   "id": "73f412da",
   "metadata": {},
   "outputs": [
    {
     "data": {
      "text/plain": [
       "(82199, 13719, 13657)"
      ]
     },
     "execution_count": 35,
     "metadata": {},
     "output_type": "execute_result"
    }
   ],
   "source": [
    "# 训练集打散\n",
    "np.random.shuffle(train_df)\n",
    "# 测试集、验证集随机重抽样\n",
    "rand_index = np.random.choice(len(test_df), len(test_df), replace=True)\n",
    "test_df = test_df[rand_index, :]\n",
    "rand_index = np.random.choice(len(val_df), len(val_df), replace=True)\n",
    "val_df = np.array(val_df)[rand_index, :]\n",
    "len(train_df), len(test_df), len(val_df)"
   ]
  },
  {
   "cell_type": "code",
   "execution_count": null,
   "id": "b3401828",
   "metadata": {},
   "outputs": [],
   "source": [
    "# 有inf值，先截断处理\n",
    "train_df1 = np.clip(train_df, 0, 1000)"
   ]
  },
  {
   "cell_type": "code",
   "execution_count": null,
   "id": "7d7df291",
   "metadata": {},
   "outputs": [],
   "source": [
    "from sklearn.linear_model import LinearRegression"
   ]
  },
  {
   "cell_type": "code",
   "execution_count": null,
   "id": "c4c374a8",
   "metadata": {},
   "outputs": [
    {
     "data": {
      "text/plain": [
       "array([-9.06967718e-05, -1.79143577e-04, -1.00788576e-06,  2.70848233e-04,\n",
       "       -1.22585859e-01])"
      ]
     },
     "execution_count": 50,
     "metadata": {},
     "output_type": "execute_result"
    }
   ],
   "source": [
    "train_x = train_df1[:, 1:]\n",
    "train_y = train_df1[:, 0]\n",
    "test_x = test_df[:, 1:]\n",
    "test_y = test_df[:, 0]\n",
    "val_x = val_df[:, 1:]\n",
    "val_y = val_df[:, 0]\n",
    "\n",
    "model = LinearRegression()\n",
    "model.fit(train_x, train_y)\n",
    "model.coef_[:5]"
   ]
  },
  {
   "cell_type": "code",
   "execution_count": null,
   "id": "1777fd78",
   "metadata": {},
   "outputs": [],
   "source": [
    "def mean_mse(y_pred, y_true):\n",
    "    assert len(y_pred) > 0\n",
    "    assert len(y_pred) == len(y_true)\n",
    "    y = np.sum(np.square(np.subtract(y_pred, y_true)))\n",
    "    result = y / len(y_pred)\n",
    "    return round(result, 8)\n",
    "# expect(5)\n",
    "mean_mse([1,2], [4, 1])"
   ]
  },
  {
   "cell_type": "code",
   "execution_count": null,
   "id": "36e4585c",
   "metadata": {},
   "outputs": [],
   "source": [
    "def mean_mae(y_pred, y_true):\n",
    "    assert len(y_pred) > 0\n",
    "    assert len(y_pred) == len(y_true)\n",
    "    y = np.sum(np.abs(np.subtract(y_pred, y_true)))\n",
    "    result = y / len(y_pred)\n",
    "    return round(result, 8)\n",
    "# expect(2)\n",
    "mean_mae([1,2], [4, 1])"
   ]
  },
  {
   "cell_type": "code",
   "execution_count": null,
   "id": "87614f90",
   "metadata": {},
   "outputs": [],
   "source": [
    "def mean_mape(y_pred, y_true):\n",
    "    assert len(y_pred) > 0\n",
    "    assert len(y_pred) == len(y_true)\n",
    "    x = np.divide(np.abs(np.subtract(y_pred, y_true)), y_true)\n",
    "    y = np.sum(x)\n",
    "    result = y / len(y_pred)\n",
    "    return round(result, 8)\n",
    "# expect((0.75+1)/2=0.875)\n",
    "mean_mape([1,2], [4, 1])"
   ]
  },
  {
   "cell_type": "code",
   "execution_count": null,
   "id": "73ec66fb-7fea-4e04-8882-c6d5e53f3877",
   "metadata": {},
   "outputs": [],
   "source": [
    "from sklearn.metrics import mean_absolute_error, mean_squared_error, mean_absolute_percentage_error"
   ]
  },
  {
   "cell_type": "code",
   "execution_count": null,
   "id": "26b389e2",
   "metadata": {},
   "outputs": [
    {
     "data": {
      "text/plain": [
       "(0.0020107589517638033, 1.0928917612984247e-05, 0.002010727449174488)"
      ]
     },
     "execution_count": 52,
     "metadata": {},
     "output_type": "execute_result"
    }
   ],
   "source": [
    "y = model.predict(test_x)\n",
    "mean_absolute_error(y, test_y), mean_squared_error(y, test_y),mean_absolute_percentage_error(y, test_y)"
   ]
  },
  {
   "cell_type": "code",
   "execution_count": null,
   "id": "92c44772",
   "metadata": {},
   "outputs": [
    {
     "data": {
      "text/plain": [
       "(0.0019177737866514506, 9.624656305924681e-06, 0.0019176354101346478)"
      ]
     },
     "execution_count": 53,
     "metadata": {},
     "output_type": "execute_result"
    }
   ],
   "source": [
    "y = model.predict(val_x)\n",
    "mean_absolute_error(y, val_y), mean_squared_error(y, val_y),mean_absolute_percentage_error(y, val_y)"
   ]
  },
  {
   "cell_type": "code",
   "execution_count": null,
   "id": "cde4d580",
   "metadata": {},
   "outputs": [
    {
     "name": "stdout",
     "output_type": "stream",
     "text": [
      "=====> save\n"
     ]
    },
    {
     "data": {
      "text/plain": [
       "['/workspace/user_code/quant_campaign/lr.pk']"
      ]
     },
     "execution_count": 55,
     "metadata": {},
     "output_type": "execute_result"
    }
   ],
   "source": [
    "save_path = os.path.join('/workspace/user_code/quant_campaign', 'lr.pk')\n",
    "print(\"=====> save\")\n",
    "joblib.dump(model, save_path)"
   ]
  },
  {
   "cell_type": "code",
   "execution_count": null,
   "id": "63316098",
   "metadata": {},
   "outputs": [],
   "source": []
  },
  {
   "cell_type": "code",
   "execution_count": null,
   "id": "da9f4e86",
   "metadata": {},
   "outputs": [],
   "source": []
  },
  {
   "cell_type": "code",
   "execution_count": null,
   "id": "9804a2c5",
   "metadata": {},
   "outputs": [],
   "source": []
  }
 ],
 "metadata": {
  "kernelspec": {
   "display_name": "Python 3.9.12 ('base')",
   "language": "python",
   "name": "python3"
  },
  "language_info": {
   "codemirror_mode": {
    "name": "ipython",
    "version": 3
   },
   "file_extension": ".py",
   "mimetype": "text/x-python",
   "name": "python",
   "nbconvert_exporter": "python",
   "pygments_lexer": "ipython3",
   "version": "3.9.12"
  },
  "vscode": {
   "interpreter": {
    "hash": "820d776940a02930c69820a8cec178404e4e9e60b6116e2717a21913b50566a0"
   }
  }
 },
 "nbformat": 4,
 "nbformat_minor": 5
}
